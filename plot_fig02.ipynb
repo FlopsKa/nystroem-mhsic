{
 "cells": [
  {
   "cell_type": "code",
   "execution_count": null,
   "id": "9e6f94fa",
   "metadata": {},
   "outputs": [],
   "source": [
    "import numpy as np\n",
    "import seaborn as sns\n",
    "import matplotlib.pyplot as plt\n",
    "import pandas as pd\n",
    "from contextlib import nullcontext\n",
    "from cycler import cycler"
   ]
  },
  {
   "cell_type": "code",
   "execution_count": null,
   "id": "b15a5d62",
   "metadata": {},
   "outputs": [],
   "source": [
    "df = pd.read_csv(\"../results/fig2.csv\", index_col=0).reset_index(drop=True)"
   ]
  },
  {
   "cell_type": "code",
   "execution_count": null,
   "id": "174d3d13",
   "metadata": {},
   "outputs": [],
   "source": [
    "df = df[df[\"alg\"] != \"N-MHSIC\"]\n",
    "df = df[df[\"alg\"] != \"N-MHSIC4\"]\n",
    "df = df[df[\"alg\"] != \"N-MHSIC6\"]\n",
    "df = df[df[\"alg\"] != \"N-MHSIC8\"]\n",
    "\n",
    "\n",
    "df = df.replace(\"N-MHSIC2\", \"N-MHSIC\")\n",
    "df = df.replace(\"HSIC\", \"V-HSIC\")\n",
    "df[\"alg\"] = pd.Categorical(df[\"alg\"],categories=[\"N-MHSIC\", \"NFSIC\", \"N-HSIC\", \"RFF-HSIC\", \"V-HSIC\"])\n",
    "df=df.sort_values(\"alg\")"
   ]
  },
  {
   "cell_type": "code",
   "execution_count": null,
   "id": "9b8c1dfc",
   "metadata": {},
   "outputs": [],
   "source": [
    "with nullcontext() as nc:\n",
    "    default_cycler = (cycler(marker=['^','x', '.', 'd', '*']))\n",
    "\n",
    "    plt.rc('axes', prop_cycle=default_cycler)\n",
    "    fig, (ax1, ax2) = plt.subplots(1,2, figsize=(5,2))\n",
    "    sns.lineplot(data=df,x=\"n\", y=\"power\", hue=\"alg\", markersize=4, ax=ax1)\n",
    "    sns.lineplot(data=df,x=\"n\", y=\"runtime\", hue=\"alg\", markersize=4, ax=ax2)\n",
    "    line, label = ax2.get_legend_handles_labels()\n",
    "    l = ax2.get_legend()\n",
    "    fig.legend(line, label, loc=\"upper center\", bbox_to_anchor=(0.52, 1.09), ncol=8)\n",
    "    ax1.get_legend().remove()\n",
    "    ax2.get_legend().remove()\n",
    "    ax1.set_ylabel(\"Power\")\n",
    "    ax2.set_ylabel(\"Runtime (s)\")\n",
    "    ax1.set_xlabel(\"\")\n",
    "    ax2.set_xlabel(\"\")\n",
    "    fig.supxlabel(\"Number of samples ($n$)\",va=\"top\",y=0.18,x=0.55,fontsize=8)\n",
    "    ax2.set_yscale(\"log\")\n",
    "    plt.tight_layout()\n",
    "    plt.savefig(\"../article/figures/power.eps\", bbox_inches=\"tight\")\n",
    "    plt.savefig(\"../article/figures/power.pdf\", bbox_inches=\"tight\")"
   ]
  },
  {
   "cell_type": "code",
   "execution_count": null,
   "id": "597f1e97",
   "metadata": {},
   "outputs": [],
   "source": []
  }
 ],
 "metadata": {
  "kernelspec": {
   "display_name": "Python 3 (ipykernel)",
   "language": "python",
   "name": "python3"
  },
  "language_info": {
   "codemirror_mode": {
    "name": "ipython",
    "version": 3
   },
   "file_extension": ".py",
   "mimetype": "text/x-python",
   "name": "python",
   "nbconvert_exporter": "python",
   "pygments_lexer": "ipython3",
   "version": "3.11.0"
  }
 },
 "nbformat": 4,
 "nbformat_minor": 5
}
