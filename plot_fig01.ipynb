{
 "cells": [
  {
   "cell_type": "code",
   "execution_count": null,
   "id": "90370761",
   "metadata": {},
   "outputs": [],
   "source": [
    "import numpy as np\n",
    "import seaborn as sns\n",
    "import matplotlib.pyplot as plt\n",
    "import pandas as pd\n",
    "from contextlib import nullcontext\n",
    "from cycler import cycler"
   ]
  },
  {
   "cell_type": "code",
   "execution_count": null,
   "id": "173a657d",
   "metadata": {},
   "outputs": [],
   "source": [
    "default_cycler = (cycler(marker=['^','x', '.', 'd']))\n",
    "plt.rc('axes', prop_cycle=default_cycler)"
   ]
  },
  {
   "cell_type": "code",
   "execution_count": null,
   "id": "c147f0df",
   "metadata": {},
   "outputs": [],
   "source": [
    "df = pd.read_csv(\"../results/fig1.csv\", index_col=0)"
   ]
  },
  {
   "cell_type": "code",
   "execution_count": null,
   "id": "41fd31d8",
   "metadata": {},
   "outputs": [],
   "source": [
    "with nullcontext() as nc:\n",
    "    default_cycler = (cycler(marker=['^','*', '.']))\n",
    "    plt.rc('axes', prop_cycle=default_cycler)\n",
    "    fig, (ax1, ax2) = plt.subplots(1,2, figsize=(5,2))\n",
    "    sns.lineplot(data=df, x=\"n\", y=\"Estimate\", hue=\"Algorithm\", ax=ax1, markersize=7, err_style=\"band\", errorbar=\"sd\")\n",
    "    sns.lineplot(data=df, x=\"n\", y=\"Runtime\", hue=\"Algorithm\", ax=ax2, markersize=7, err_style=\"band\", errorbar=\"sd\")\n",
    "    line, label = ax2.get_legend_handles_labels()\n",
    "    l = ax2.get_legend()\n",
    "    fig.legend(line, label, loc=\"upper center\", bbox_to_anchor=(0.52, 1.09), ncol=3)\n",
    "    ax1.get_legend().remove()\n",
    "    ax2.get_legend().remove()\n",
    "    ax2.set_ylabel(\"Runtime (s)\")\n",
    "    ax1.set_xlabel(\"\")\n",
    "    ax2.set_xlabel(\"\")\n",
    "    fig.supxlabel(\"Number of samples ($n$)\",va=\"top\",y=0.18,x=0.55,fontsize=8)\n",
    "    plt.tight_layout()\n",
    "    plt.savefig(\"../article/figures/indep_runtime.eps\", bbox_inches=\"tight\")\n",
    "    plt.savefig(\"../article/figures/indep_runtime.pdf\", bbox_inches=\"tight\")"
   ]
  },
  {
   "cell_type": "code",
   "execution_count": null,
   "id": "41109e41",
   "metadata": {},
   "outputs": [],
   "source": []
  }
 ],
 "metadata": {
  "kernelspec": {
   "display_name": "Python 3 (ipykernel)",
   "language": "python",
   "name": "python3"
  },
  "language_info": {
   "codemirror_mode": {
    "name": "ipython",
    "version": 3
   },
   "file_extension": ".py",
   "mimetype": "text/x-python",
   "name": "python",
   "nbconvert_exporter": "python",
   "pygments_lexer": "ipython3",
   "version": "3.11.0"
  }
 },
 "nbformat": 4,
 "nbformat_minor": 5
}
