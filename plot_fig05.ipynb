{
 "cells": [
  {
   "cell_type": "code",
   "execution_count": null,
   "id": "c0477c7a",
   "metadata": {},
   "outputs": [],
   "source": [
    "import numpy as np\n",
    "import seaborn as sns\n",
    "import matplotlib.pyplot as plt\n",
    "import pandas as pd\n",
    "import time\n",
    "from sklearn.metrics.pairwise import rbf_kernel\n",
    "from cycler import cycler\n",
    "from contextlib import nullcontext"
   ]
  },
  {
   "cell_type": "code",
   "execution_count": null,
   "id": "505ab53d",
   "metadata": {},
   "outputs": [],
   "source": [
    "df = pd.read_csv(\"../results/causal_real_world.csv\",index_col=0)"
   ]
  },
  {
   "cell_type": "code",
   "execution_count": null,
   "id": "02f5e5a4",
   "metadata": {},
   "outputs": [],
   "source": [
    "df = df.replace(\"Nyström HSIC\", \"N-MHSIC\")\n",
    "df = df.replace(\"dHSIC\", \"V-HSIC\")"
   ]
  },
  {
   "cell_type": "code",
   "execution_count": null,
   "id": "6eb61815",
   "metadata": {},
   "outputs": [],
   "source": [
    "with nullcontext() as nc:\n",
    "    default_cycler = (cycler(marker=['^','x', '.', 'd', '*']))\n",
    "\n",
    "    fig, (ax1) = plt.subplots(1,1, figsize=(3.2,2))\n",
    "    sns.scatterplot(data=df[df[\"alg\"] == \"N-MHSIC\"],x=\"dag\", y=\"pval\", ax=ax1, label=\"N-MHSIC\", marker=\"^\", s=70, color=(0.9677975592919913, 0.44127456009157356, 0.5358103155058701))\n",
    "    sns.scatterplot(data=df[df[\"alg\"] == \"V-HSIC\"],x=\"dag\", y=\"pval\", ax=ax1, label=\"V-HSIC\", marker=\"*\",s=70, color=(0.8004936186423958, 0.47703363533737203, 0.9579547196007522))\n",
    "    line, label = ax1.get_legend_handles_labels()\n",
    "    fig.legend(line, label, loc=\"upper center\", bbox_to_anchor=(0.57, 1.09), ncol=2)\n",
    "    ax1.get_legend().remove()\n",
    "    ax1.set_ylabel(\"$p$-value\")\n",
    "    ax1.set_xlabel(\"DAG\")\n",
    "    ax1.set_yscale(\"log\")\n",
    "    ax1.set_xlim((0.5,25.5))\n",
    "    plt.tight_layout()\n",
    "    plt.savefig(\"../article/figures/caus_real_world.eps\", bbox_inches=\"tight\")\n",
    "    plt.savefig(\"../article/figures/caus_real_world.pdf\", bbox_inches=\"tight\")\n"
   ]
  },
  {
   "cell_type": "code",
   "execution_count": null,
   "id": "30f0466e",
   "metadata": {},
   "outputs": [],
   "source": []
  }
 ],
 "metadata": {
  "kernelspec": {
   "display_name": "Python 3 (ipykernel)",
   "language": "python",
   "name": "python3"
  },
  "language_info": {
   "codemirror_mode": {
    "name": "ipython",
    "version": 3
   },
   "file_extension": ".py",
   "mimetype": "text/x-python",
   "name": "python",
   "nbconvert_exporter": "python",
   "pygments_lexer": "ipython3",
   "version": "3.11.0"
  }
 },
 "nbformat": 4,
 "nbformat_minor": 5
}
