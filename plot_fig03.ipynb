{
 "cells": [
  {
   "cell_type": "code",
   "execution_count": null,
   "id": "c0477c7a",
   "metadata": {},
   "outputs": [],
   "source": [
    "import numpy as np\n",
    "import seaborn as sns\n",
    "import matplotlib.pyplot as plt\n",
    "import pandas as pd\n",
    "from cycler import cycler\n",
    "from contextlib import nullcontext"
   ]
  },
  {
   "cell_type": "code",
   "execution_count": null,
   "id": "f08c19db",
   "metadata": {},
   "outputs": [],
   "source": [
    "df = pd.read_csv(\"../results/fig3.csv\", index_col=0)"
   ]
  },
  {
   "cell_type": "code",
   "execution_count": null,
   "id": "bbf8ee58",
   "metadata": {},
   "outputs": [],
   "source": [
    "df = df.replace(\"1\", \"$1\\\\sqrt n$\")\n",
    "df = df.replace(\"2\", \"$2\\\\sqrt n$\")\n",
    "df = df.replace(\"4\", \"$4\\\\sqrt n$\")\n",
    "df = df.replace(\"8\", \"$8\\\\sqrt n$\")\n",
    "df = df.replace(\"HSIC\", \"V-HSIC\")"
   ]
  },
  {
   "cell_type": "code",
   "execution_count": null,
   "id": "861ccd41",
   "metadata": {},
   "outputs": [],
   "source": [
    "df = df.groupby([\"alg\", \"num_samples\"]).mean().reset_index()"
   ]
  },
  {
   "cell_type": "code",
   "execution_count": null,
   "id": "dda18678",
   "metadata": {},
   "outputs": [],
   "source": [
    "with nullcontext() as nc:\n",
    "    default_cycler = (cycler(marker=['^','*', '.']))\n",
    "    plt.rc('axes', prop_cycle=default_cycler)\n",
    "    fig, (ax1, ax2) = plt.subplots(1,2, figsize=(5,2))\n",
    "    sns.lineplot(data=df, x=\"num_samples\", y=\"correct\", hue=\"alg\", ax=ax1, markersize=8)\n",
    "    sns.lineplot(data=df, x=\"num_samples\", y=\"runtime\", hue=\"alg\", ax=ax2, markersize=8)\n",
    "    line, label = ax2.get_legend_handles_labels()\n",
    "    l = ax2.get_legend()\n",
    "    fig.legend(line, label, loc=\"upper center\", bbox_to_anchor=(0.52, 1.09), ncol=5)\n",
    "    ax1.get_legend().remove()\n",
    "    ax2.get_legend().remove()\n",
    "    ax1.set_ylabel(\"Ratio of correct DAGs\")\n",
    "    ax2.set_ylabel(\"Runtime (s)\")\n",
    "    ax1.set_xlabel(\"\")\n",
    "    ax2.set_xlabel(\"\")\n",
    "    fig.supxlabel(\"Number of samples ($n$)\",va=\"top\",y=0.18,x=0.55,fontsize=8)\n",
    "    plt.tight_layout()\n",
    "    plt.savefig(\"../article/figures/dag_sim.eps\", bbox_inches=\"tight\")\n",
    "    plt.savefig(\"../article/figures/dag_sim.pdf\", bbox_inches=\"tight\")"
   ]
  },
  {
   "cell_type": "code",
   "execution_count": null,
   "id": "30f0466e",
   "metadata": {},
   "outputs": [],
   "source": []
  }
 ],
 "metadata": {
  "kernelspec": {
   "display_name": "Python 3 (ipykernel)",
   "language": "python",
   "name": "python3"
  },
  "language_info": {
   "codemirror_mode": {
    "name": "ipython",
    "version": 3
   },
   "file_extension": ".py",
   "mimetype": "text/x-python",
   "name": "python",
   "nbconvert_exporter": "python",
   "pygments_lexer": "ipython3",
   "version": "3.11.0"
  }
 },
 "nbformat": 4,
 "nbformat_minor": 5
}
